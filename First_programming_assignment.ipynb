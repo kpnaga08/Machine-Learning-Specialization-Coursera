{
 "cells": [
  {
   "cell_type": "markdown",
   "metadata": {},
   "source": [
    "# Instructions\n",
    "\n",
    "Welcome to the first programming exercise of Course 1 of the Machine Learning Specialization. In this notebook you will *implement the regression model using gradient descent*.This notebook will give you a brief introduction to Python. Even if you've used Python before, these exercises will help familiarize you with some essential functions.  \n",
    "\n",
    "This assignment prepares you well for the upcoming assignment. Take your time to complete it and make sure you get the expected outputs when working through the different exercises. \n",
    "\n",
    "After you are done, submit your work and check your results. Click on \"My Submission\" above. It might take up to one minute for the graders to process your submission. You will then see the point breakdown of your assignment, along with the grader feedback."
   ]
  }
 ],
 "metadata": {
  "kernelspec": {
   "display_name": "Python 3.10.8 64-bit",
   "language": "python",
   "name": "python3"
  },
  "language_info": {
   "codemirror_mode": {
    "name": "ipython",
    "version": 3
   },
   "file_extension": ".py",
   "mimetype": "text/x-python",
   "name": "python",
   "nbconvert_exporter": "python",
   "pygments_lexer": "ipython3",
   "version": "3.10.8"
  },
  "orig_nbformat": 4,
  "vscode": {
   "interpreter": {
    "hash": "aee8b7b246df8f9039afb4144a1f6fd8d2ca17a180786b69acc140d282b71a49"
   }
  }
 },
 "nbformat": 4,
 "nbformat_minor": 2
}
