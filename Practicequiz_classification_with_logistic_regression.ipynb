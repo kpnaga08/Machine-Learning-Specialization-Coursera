{
 "cells": [
  {
   "cell_type": "markdown",
   "metadata": {},
   "source": [
    "# Question 1\n",
    "\n",
    "Which is an example of a classification task?\n",
    "\n",
    "\n",
    "- Based on a patient's age and blood pressure, determine how much blood pressure medication (measured in milligrams) the patient should be prescribed.\n",
    "- Based on the size of each tumor, determine if each tumor is malignant (cancerous) or not.\n",
    "- Based on a patient's blood pressure, determine how much blood pressure medication (a dosage measured in milligrams) the patient should be prescribed.\n",
    "\n",
    "**Answer: Based on the size of each tumor, determine if each tumor is malignant (cancerous) or not.**\n",
    "\n",
    "**Explanation: This task predicts one of two classes, malignant or not malignant.**\n"
   ]
  },
  {
   "cell_type": "markdown",
   "metadata": {},
   "source": [
    "# Question 2\n",
    "\n",
    "Recall the sigmoid function is $g(z) = \\frac{1}{1+e^{-z}}$\n",
    "\n",
    "<figure>\n",
    " <img src=\"./images/Log_red_q2.PNG\"   style=\"width:600px;height:200px;\">\n",
    "</figure> \n",
    "\n",
    "If z is a large positive number, then:\n",
    "\n",
    "- $g(z)$ is near one $(1)$ \n",
    "- $g(z)$ will be near $0.5$ \n",
    "- $g(z)$ will be near zero $(0)$ \n",
    "- $g(z)$ is near negative one $(-1)$\n",
    "\n",
    "**Answer: $g(z)$ is near one $(1)$ **\n",
    "\n",
    "**Explanation: Say $z = +100$. So $e^{-100}$, a really small positive number. So, $g(z) = \\frac{1}{1+\\text{a small positive number}}$ which is close to $1$**"
   ]
  },
  {
   "cell_type": "markdown",
   "metadata": {},
   "source": [
    "# Question 3\n",
    "\n",
    "\n",
    "<figure>\n",
    " <img src=\"./images/Log_red_q3.PNG\"   style=\"width:600px;height:200px;\">\n",
    "</figure>\n",
    "\n",
    "A cat photo classification model predicts $1$ if it's a cat, and $0$ if it's not a cat. For a particular photograph, the logistic regression model outputs $g(z)$ (a number between $0$ and $1$). Which of these would be a reasonable criteria to decide whether to predict if it’s a cat?\n",
    "\n",
    "- Predict it is a cat if $g(z) < 7$\n",
    "- Predict it is a cat if $g(z) = 0.5$\n",
    "- Predict it is a cat if $g(z) < 0.5$\n",
    "- Predict it is a cat if $g(z) \\geq 0.5$\n",
    "\n",
    "\n",
    "**Answer: Predict it is a cat if $g(z) \\geq 0.5$**\n",
    "\n",
    "**Explanation: Think of $g(z)$ as the probability that the photo is of a cat. When this number is at or above the threshold of 0.5, predict that it is a cat.**"
   ]
  },
  {
   "cell_type": "markdown",
   "metadata": {},
   "source": [
    "# Question 4\n",
    "\n",
    "Question 4\n",
    "True/False? No matter what features you use (including if you use polynomial features), the decision boundary learned by logistic regression will be a linear decision boundary. \n",
    "\n",
    "- False\n",
    "- True\n",
    "\n",
    "**Answer: False.**\n",
    "\n",
    "**Explanation: The decision boundary can also be non-linear, as described in the lectures.**"
   ]
  }
 ],
 "metadata": {
  "kernelspec": {
   "display_name": "Python 3.10.8 64-bit",
   "language": "python",
   "name": "python3"
  },
  "language_info": {
   "name": "python",
   "version": "3.10.8"
  },
  "orig_nbformat": 4,
  "vscode": {
   "interpreter": {
    "hash": "aee8b7b246df8f9039afb4144a1f6fd8d2ca17a180786b69acc140d282b71a49"
   }
  }
 },
 "nbformat": 4,
 "nbformat_minor": 2
}
