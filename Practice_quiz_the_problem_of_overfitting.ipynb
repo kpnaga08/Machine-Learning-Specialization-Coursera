{
 "cells": [
  {
   "cell_type": "markdown",
   "metadata": {},
   "source": [
    "# Question 1\n",
    "\n",
    "Which of the following can address overfitting?\n",
    "\n",
    "- Apply regularization\n",
    "- Select a subset of the more relevant features.\n",
    "- Collect more training data\n",
    "- Remove a random set of training examples\n",
    "\n",
    "**Answer: \n",
    "- Apply regularization\n",
    "- Select a subset of the more relevant features.\n",
    "- Collect more training data**\n",
    "\n",
    "**Explanation: \n",
    "- Regularization is used to reduce overfitting.\n",
    "- If the model trains on the more relevant features, and not on the less useful features, it may generalize better to new examples.\n",
    "- If the model trains on more data, it may generalize better to new examples.**\n"
   ]
  },
  {
   "cell_type": "markdown",
   "metadata": {},
   "source": [
    "# Question 2\n",
    "\n",
    "You fit logistic regression with polynomial features to a dataset, and your model looks like this. \n",
    "\n",
    "<figure>\n",
    " <img src=\"./images/TP).PNG\"   style=\"width:400px;height:400px;\">\n",
    "</figure> \n",
    "\n",
    "What would you conclude? (Pick one)\n",
    "\n",
    "- The model has high variance (overfit). Thus, adding data is, by itself, unlikely to help much. \n",
    "- The model has high variance (overfit). Thus, adding data is likely to help\n",
    "- The model has high bias (underfit). Thus, adding data is, by itself, unlikely to help much. \n",
    "- The model has high bias (underfit). Thus, adding data is likely to help\n",
    "\n",
    "**Answer: The model has high variance (overfit). Thus, adding data is likely to help**\n",
    "\n",
    "**Explanation: The model has high variance (it overfits the training data). Adding data (more training examples) can help.**"
   ]
  },
  {
   "cell_type": "markdown",
   "metadata": {},
   "source": [
    "# Question 3\n",
    "\n",
    "<figure>\n",
    " <img src=\"./images/Eqt.PNG\"   style=\"width:400px;height:250px;\">\n",
    "</figure> \n",
    "\n",
    "Suppose you have a regularized linear regression model.  If you increase the regularization parameter $\\lambda$, what do you expect to happen to the parameters $w_{1}, w_{2}, ..., w_{n}$?\n",
    "\n",
    "- This will reduce the size of the parameters $w_{1}, w_{2}, ..., w_{n}$\n",
    "- This will increase the size of the parameters $w_{1}, w_{2}, ..., w_{n}$\n",
    "\n",
    "**Answer: This will reduce the size of the parameters $w_{1}, w_{2}, ..., w_{n}$**\n",
    "\n",
    "**Explanation: Regularization reduces overfitting by reducing the size of the parameters $w_{1}, w_{2}, ..., w_{n}$**"
   ]
  }
 ],
 "metadata": {
  "kernelspec": {
   "display_name": "Python 3.10.8 64-bit",
   "language": "python",
   "name": "python3"
  },
  "language_info": {
   "name": "python",
   "version": "3.10.8"
  },
  "orig_nbformat": 4,
  "vscode": {
   "interpreter": {
    "hash": "aee8b7b246df8f9039afb4144a1f6fd8d2ca17a180786b69acc140d282b71a49"
   }
  }
 },
 "nbformat": 4,
 "nbformat_minor": 2
}
