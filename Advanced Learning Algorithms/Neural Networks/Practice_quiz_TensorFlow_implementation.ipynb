{
 "cells": [
  {
   "cell_type": "markdown",
   "metadata": {},
   "source": [
    "# Question 1\n",
    "\n",
    "For the the following code:\n",
    "\n",
    "model = Sequential([\n",
    "\n",
    " Dense(units=25, activation=\"sigmoid\"),\n",
    "\n",
    " Dense(units=15, activation=\"sigmoid\"),\n",
    "\n",
    " Dense(units=10, activation=\"sigmoid\"),\n",
    "\n",
    " Dense(units=1, activation=\"sigmoid\")])\n",
    "\n",
    "This code will define a neural network with how many layers?\n",
    "\n",
    "- 5\n",
    "- 25\n",
    "- 4\n",
    "- 3\n",
    "\n",
    "**<font color='magenta'>Answer: 4</font>**\n",
    "\n",
    "**<font color='magenta'>Explanation: Each call to the \"Dense\" function defines a layer of the neural network.</font>**"
   ]
  },
  {
   "cell_type": "markdown",
   "metadata": {},
   "source": [
    "# Question 2\n",
    "\n",
    "<figure>\n",
    "<img src=\"TI_2.PNG\"   style=\"width:600px;height:300px;\">\n",
    "</figure> \n",
    "\n",
    "How do you define the second layer of a neural network that has 4 neurons and a sigmoid activation?\n",
    "\n",
    "- Dense(units=[4], activation=[‘sigmoid’]) \n",
    "\n",
    "- Dense(units=4, activation=‘sigmoid’)\n",
    "\n",
    "- Dense(layer=2, units=4, activation = ‘sigmoid’)\n",
    "\n",
    "- Dense(units=4)\n",
    "\n",
    "**<font color='magenta'>Answer: Dense(units=4, activation=‘sigmoid’)</font>**\n",
    "\n",
    "**<font color='magenta'>Explanation: This will have 4 neurons and a sigmoid activation.</font>**"
   ]
  },
  {
   "cell_type": "markdown",
   "metadata": {},
   "source": [
    "#Question 3\n",
    "\n",
    "<figure>\n",
    "<img src=\"TI_3.PNG\"   style=\"width:600px;height:300px;\">\n",
    "</figure> \n",
    "\n",
    "If the input features are temperature (in Celsius) and duration (in minutes), how do you write the code for the first feature vector x shown above?\n",
    "\n",
    "\n",
    "- x = np.array([[200.0 + 17.0]])\n",
    "\n",
    "- x = np.array([[200.0, 17.0]])\n",
    "\n",
    "- x = np.array([[‘200.0’, ’17.0’]])\n",
    "\n",
    "- x = np.array([[200.0],[17.0]])\n",
    "\n",
    "**<font color='magenta'>Answer: x = np.array([[200.0, 17.0]])</font>**\n",
    "\n",
    "**<font color='magenta'>Explanation: A row contains all the features of a training example. Each column is a feature.</font>**"
   ]
  }
 ],
 "metadata": {
  "kernelspec": {
   "display_name": "Python 3.10.8 64-bit",
   "language": "python",
   "name": "python3"
  },
  "language_info": {
   "name": "python",
   "version": "3.10.8"
  },
  "orig_nbformat": 4,
  "vscode": {
   "interpreter": {
    "hash": "aee8b7b246df8f9039afb4144a1f6fd8d2ca17a180786b69acc140d282b71a49"
   }
  }
 },
 "nbformat": 4,
 "nbformat_minor": 2
}
