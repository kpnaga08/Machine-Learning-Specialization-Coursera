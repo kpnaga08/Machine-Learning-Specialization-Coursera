{
 "cells": [
  {
   "cell_type": "markdown",
   "metadata": {},
   "source": [
    "# Question 1\n",
    "\n",
    "<figure>\n",
    "<img src=\"NNT1.PNG\"   style=\"width:600px;height:200px;\">\n",
    "</figure>\n",
    "\n",
    "Here is some code that you saw in the lecture:\n",
    "\n",
    "```\n",
    "\n",
    "​​model.compile(loss=BinaryCrossentropy())\n",
    "\n",
    "```\n",
    "\n",
    "\n",
    "For which type of task would you use the binary cross entropy loss function?\n",
    "\n",
    "- regression tasks (tasks that predict a number)\n",
    "\n",
    "- A classification task that has 3 or more classes (categories)\n",
    "\n",
    "- BinaryCrossentropy() should not be used for any task. \n",
    "\n",
    "- binary classification (classification with exactly 2 classes)\n",
    "\n",
    "**<font color='magenta'>Answer: binary classification (classification with exactly 2 classes). </font>**\n",
    "\n",
    "**<font color='magenta'>Explanation: Binary cross entropy, which we've also referred to as logistic loss, is used for classifying between two classes (two categories). </font>**\n",
    "\n"
   ]
  },
  {
   "cell_type": "markdown",
   "metadata": {},
   "source": [
    "# Question 2\n",
    "\n",
    "<figure>\n",
    "<img src=\"NNT2.PNG\"   style=\"width:600px;height:200px;\">\n",
    "</figure>\n",
    "\n",
    "Here is code that you saw in the lecture:\n",
    "\n",
    "```\n",
    "\n",
    "model = Sequential([\n",
    "\n",
    "Dense(units=25, activation='sigmoid’),\n",
    "\n",
    "Dense(units=15, activation='sigmoid’),\n",
    "\n",
    "Dense(units=1, activation='sigmoid’)\n",
    "\n",
    "])\n",
    "\n",
    "model.compile(loss=BinaryCrossentropy())\n",
    "\n",
    "model.fit(X,y,epochs=100)\n",
    "\n",
    "```\n",
    "\n",
    "\n",
    "\n",
    "Which line of code updates the network parameters in order to reduce the cost?\n",
    "\n",
    "- None of the above -- this code does not update the network parameters. \n",
    "- model.fit(X,y,epochs=100)\n",
    "- model = Sequential([...]) \n",
    "- model.compile(loss=BinaryCrossentropy())\n",
    "\n",
    "\n",
    "**<font color='magenta'>Answer:  model.fit(X,y,epochs=100)</font>**\n",
    "\n",
    "**<font color='magenta'>Explanation: The third step of model training is to train the model on data in order to minimize the loss (and the cost)</font>**\n",
    "\n"
   ]
  }
 ],
 "metadata": {
  "kernelspec": {
   "display_name": "Python 3.10.8 64-bit",
   "language": "python",
   "name": "python3"
  },
  "language_info": {
   "name": "python",
   "version": "3.10.8"
  },
  "orig_nbformat": 4,
  "vscode": {
   "interpreter": {
    "hash": "aee8b7b246df8f9039afb4144a1f6fd8d2ca17a180786b69acc140d282b71a49"
   }
  }
 },
 "nbformat": 4,
 "nbformat_minor": 2
}
