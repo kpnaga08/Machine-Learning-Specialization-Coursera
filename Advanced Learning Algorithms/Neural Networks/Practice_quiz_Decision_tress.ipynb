{
 "cells": [
  {
   "cell_type": "markdown",
   "metadata": {},
   "source": [
    "# Question 1\n",
    "\n",
    "<figure>\n",
    "<img src=\"DT.PNG\"   style=\"width:600px;height:200px;\">\n",
    "</figure> \n",
    "\n",
    "Based on the decision tree shown in the lecture, if an animal has floppy ears, a round face shape and has whiskers, does the model predict that it's a cat or not a cat?\n",
    "\n",
    "- cat\n",
    "- Not a cat\n",
    "\n",
    "\n",
    "**<font color='magenta'>Answer: cat </font>**\n",
    "\n",
    "**<font color='magenta'>Explanation: If you follow the floppy ears to the right, and then from the whiskers decision node, go left because whiskers are present, you reach a leaf node for \"cat\", so the model would predict that this is a cat. </font>**\n"
   ]
  },
  {
   "cell_type": "markdown",
   "metadata": {},
   "source": [
    "# Question 2\n",
    "\n",
    "<figure>\n",
    "<img src=\"DT2.PNG\"   style=\"width:600px;height:200px;\">\n",
    "</figure> \n",
    "\n",
    "\n",
    "Take a decision tree learning to classify between spam and non-spam email. There are 20 training examples at the root note, comprising 10 spam and 10 non-spam emails. If the algorithm can choose from among four features, resulting in four corresponding splits, which would it choose (i.e., which has highest purity)? \n",
    "\n",
    "- Left split: 7 of 8 emails are spam. Right split: 3 of 12 emails are spam. \n",
    "\n",
    "- Left split: 2 of 2 emails are spam. Right split: 8 of 18 emails are spam. \n",
    "\n",
    "- Left split: 5 of 10 emails are spam. Right split: 5 of 10 emails are spam. \n",
    "\n",
    "- Left split: 10 of 10 emails are spam. Right split: 0 of 10 emails are spam. \n",
    "\n",
    "\n",
    "**<font color='magenta'>Answer: Left split: 10 of 10 emails are spam. Right split: 0 of 10 emails are spam. </font>**\n"
   ]
  }
 ],
 "metadata": {
  "kernelspec": {
   "display_name": "Python 3.10.8 64-bit",
   "language": "python",
   "name": "python3"
  },
  "language_info": {
   "name": "python",
   "version": "3.10.8"
  },
  "orig_nbformat": 4,
  "vscode": {
   "interpreter": {
    "hash": "aee8b7b246df8f9039afb4144a1f6fd8d2ca17a180786b69acc140d282b71a49"
   }
  }
 },
 "nbformat": 4,
 "nbformat_minor": 2
}
