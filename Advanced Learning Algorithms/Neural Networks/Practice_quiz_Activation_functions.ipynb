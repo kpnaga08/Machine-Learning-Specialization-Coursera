{
 "cells": [
  {
   "cell_type": "markdown",
   "metadata": {},
   "source": [
    "# Question 1\n",
    "\n",
    "<figure>\n",
    "<img src=\"Relu.PNG\"   style=\"width:600px;height:200px;\">\n",
    "</figure>\n",
    "\n",
    "\n",
    "Which of the following activation functions is the most common choice for the hidden layers of a neural network?\n",
    "\n",
    "- Sigmoid\n",
    "- ReLU (rectified linear unit)\n",
    "- Linear\n",
    "- Most hidden layers do not use any activation function \n",
    "\n",
    "**<font color='magenta'>Answer:  ReLU (rectified linear unit)</font>**\n",
    "\n",
    "**<font color='magenta'>Explanation: A ReLU is most often used because it is faster to train compared to the sigmoid. This is because the ReLU is only flat on one side (the left side) whereas the sigmoid goes flat (horizontal, slope approaching zero) on both sides of the curve.</font>**"
   ]
  },
  {
   "cell_type": "markdown",
   "metadata": {},
   "source": [
    "# Question 2\n",
    "\n",
    "<figure>\n",
    "<img src=\"Relu_1.PNG\"   style=\"width:600px;height:200px;\">\n",
    "</figure>\n",
    "\n",
    "\n",
    "For the task of predicting housing prices, which activation functions could you choose for the output layer? Choose the 2 options that apply.\n",
    "\n",
    "- linear\n",
    "- ReLu\n",
    "- Sigmoid\n",
    "\n",
    "\n",
    "**<font color='magenta'>Answer:  Linear and ReLu</font>**\n",
    "\n",
    "**<font color='magenta'>Explanation: (1) A linear activation function can be used for a regression task where the output can be both negative and positive, but it's also possible to use it for a task where the output is 0 or greater (like with house prices). (2)ReLU outputs values 0 or greater, and housing prices are positive values.</font>**"
   ]
  },
  {
   "cell_type": "markdown",
   "metadata": {},
   "source": [
    "# Question 3\n",
    "\n",
    "True/False? A neural network with many layers but no activation function (in the hidden layers) is not effective; that’s why we should instead use the linear activation function in every hidden layer. \n",
    "\n",
    "- False\n",
    "- True\n",
    "\n",
    "**<font color='magenta'>Answer: False</font>**\n",
    "\n",
    "**<font color='magenta'>Explanation: A neural network with many layers but no activation function is not effective. A linear activation is the same as \"no activation function\". </font>**"
   ]
  }
 ],
 "metadata": {
  "kernelspec": {
   "display_name": "Python 3.10.8 64-bit",
   "language": "python",
   "name": "python3"
  },
  "language_info": {
   "name": "python",
   "version": "3.10.8"
  },
  "orig_nbformat": 4,
  "vscode": {
   "interpreter": {
    "hash": "aee8b7b246df8f9039afb4144a1f6fd8d2ca17a180786b69acc140d282b71a49"
   }
  }
 },
 "nbformat": 4,
 "nbformat_minor": 2
}
