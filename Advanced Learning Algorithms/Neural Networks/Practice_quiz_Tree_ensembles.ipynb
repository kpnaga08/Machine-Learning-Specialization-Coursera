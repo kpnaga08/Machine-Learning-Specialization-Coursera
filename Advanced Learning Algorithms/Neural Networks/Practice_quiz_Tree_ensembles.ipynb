{
 "cells": [
  {
   "cell_type": "markdown",
   "metadata": {},
   "source": [
    "# Question 1\n",
    "\n",
    "<figure>\n",
    "<img src=\"TE.PNG\"   style=\"width:600px;height:200px;\">\n",
    "</figure> \n",
    "\n",
    "For the random forest, how do you build each individual tree so that they are not all identical to each other?\n",
    "\n",
    "- If you are training B trees, train each one on 1/B of the training set, so each tree is trained on a distinct set of examples. \n",
    "- Sample the training data without replacement\n",
    "- Sample the training data with replacement\n",
    "- Train the algorithm multiple times on the same training set. This will naturally result in different trees. \n",
    "\n",
    "**<font color='magenta'>Answer: Sample the training data with replacement</font>**\n",
    "\n",
    "**<font color='magenta'>Explanation: You can generate a training set that is unique for each individual tree by sampling the training data with replacement. </font>**\n",
    "\n"
   ]
  },
  {
   "cell_type": "markdown",
   "metadata": {},
   "source": [
    "# Question 2\n",
    "\n",
    "You are choosing between a decision tree and a neural network for a classification task where the input $x$ is a 100x100 resolution image. Which would you choose?\n",
    "\n",
    "- A neural network, because the input is unstructured data and neural networks typically work better with unstructured data. \n",
    "- A neural network, because the input is structured data and neural networks typically work better with structured data. \n",
    "- A decision tree, because the input is structured data and decision trees typically work better with structured data. \n",
    "- A decision tree, because the input is unstructured and decision trees typically work better with unstructured data. \n",
    "\n",
    "**<font color='magenta'>Answer: A neural network, because the input is unstructured data and neural networks typically work better with unstructured data.</font>**"
   ]
  },
  {
   "cell_type": "markdown",
   "metadata": {},
   "source": [
    "# Question 3\n",
    "\n",
    "What does sampling with replacement refer to?\n",
    "\n",
    "- Drawing a sequence of examples where, when picking the next example, first remove all previously drawn examples from the set we are picking from. \n",
    "\n",
    "- Drawing a sequence of examples where, when picking the next example, first replacing all previously drawn examples into the set we are picking from. \n",
    "\n",
    "- It refers to a process of making an identical copy of the training set. \n",
    "\n",
    "- It refers to using a new sample of data that we use to permanently overwrite (that is, to replace) the original data. \n",
    "\n",
    "**<font color='magenta'>Answer: Drawing a sequence of examples where, when picking the next example, first replacing all previously drawn examples into the set we are picking from.</font>**"
   ]
  }
 ],
 "metadata": {
  "kernelspec": {
   "display_name": "Python 3.10.8 64-bit",
   "language": "python",
   "name": "python3"
  },
  "language_info": {
   "name": "python",
   "version": "3.10.8"
  },
  "orig_nbformat": 4,
  "vscode": {
   "interpreter": {
    "hash": "aee8b7b246df8f9039afb4144a1f6fd8d2ca17a180786b69acc140d282b71a49"
   }
  }
 },
 "nbformat": 4,
 "nbformat_minor": 2
}
