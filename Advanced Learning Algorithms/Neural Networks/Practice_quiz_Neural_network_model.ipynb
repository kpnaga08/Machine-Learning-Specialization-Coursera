{
 "cells": [
  {
   "cell_type": "markdown",
   "metadata": {},
   "source": [
    "**<font color='magenta'>Question 1</font>**\n",
    "\n",
    "\n",
    "<figure>\n",
    "<img src=\"NNM_1.PNG\"   style=\"width:600px;height:300px;\">\n",
    "</figure> \n",
    "\n",
    "For a neural network, what is the expression for calculating the activation of the third neuron in layer 2? Note, this is different from the question that you saw in the lecture video.\n",
    "\n",
    "- $a_3^{[2]} = g(\\vec{w}_{2}^{[3]} . \\vec{a}^{[2]} + b_{2}^{[3]})$\n",
    "- $a_3^{[2]} = g(\\vec{w}_{3}^{[2]} . \\vec{a}^{[2]} + b_{3}^{[2]})$\n",
    "- $a_3^{[2]} = g(\\vec{w}_{3}^{[2]} . \\vec{a}^{[1]} + b_{3}^{[2]})$\n",
    "- $a_3^{[2]} = g(\\vec{w}_{2}^{[3]} . \\vec{a}^{[1]} + b_{2}^{[3]})$\n",
    "\n",
    "**<font color='magenta'>Answer: $a_3^{[2]} = g(\\vec{w}_{3}^{[2]} . \\vec{a}^{[1]} + b_{3}^{[2]})$</font>**\n",
    "\n",
    "**<font color='magenta'>Explanation: The superscript [2] refers to layer 2. The subscript 3 refers to the neuron in that layer. The input to layer 2 is the activation vector from layer 1.</font>**"
   ]
  },
  {
   "cell_type": "markdown",
   "metadata": {},
   "source": [
    "**<font color='magenta'>Question 2</font>**\n",
    "\n",
    "\n",
    "<figure>\n",
    "<img src=\"NNM_2.PNG\"   style=\"width:600px;height:300px;\">\n",
    "</figure> \n",
    "\n",
    "For the handwriting recognition task discussed in lecture, what is the output $a_1^{[3]}$?\n",
    "\n",
    "\n",
    "- A number that is either exactly 0 or 1, comprising the network’s prediction \n",
    "\n",
    "- A vector of several numbers that take values between 0 and 1 \n",
    "\n",
    "- The estimated probability that the input image is of a number 1, a number that ranges from 0 to 1.\n",
    "\n",
    "- A vector of several numbers, each of which is either exactly 0 or 1 \n",
    "\n",
    "**<font color='magenta'>Answer: he estimated probability that the input image is of a number 1, a number that ranges from 0 to 1.</font>**\n",
    "\n",
    "**<font color='magenta'>Explanation: The neural network outputs a single number between 0 and 1.</font>**"
   ]
  }
 ],
 "metadata": {
  "kernelspec": {
   "display_name": "Python 3.10.8 64-bit",
   "language": "python",
   "name": "python3"
  },
  "language_info": {
   "name": "python",
   "version": "3.10.8"
  },
  "orig_nbformat": 4,
  "vscode": {
   "interpreter": {
    "hash": "aee8b7b246df8f9039afb4144a1f6fd8d2ca17a180786b69acc140d282b71a49"
   }
  }
 },
 "nbformat": 4,
 "nbformat_minor": 2
}
