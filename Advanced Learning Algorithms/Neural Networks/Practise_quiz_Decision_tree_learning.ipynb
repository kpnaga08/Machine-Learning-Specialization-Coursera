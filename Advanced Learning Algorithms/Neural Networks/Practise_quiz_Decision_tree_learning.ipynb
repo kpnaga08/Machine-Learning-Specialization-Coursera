{
 "cells": [
  {
   "cell_type": "markdown",
   "metadata": {},
   "source": [
    "# Question 1\n",
    "\n",
    "<figure>\n",
    "<img src=\"DTL.PNG\"   style=\"width:600px;height:200px;\">\n",
    "</figure> \n",
    "\n",
    "Recall that entropy was defined in lecture as H(p_1) = - p_1 log_2(p_1) - p_0 log_2(p_0), where p_1 is the fraction of positive examples and p_0 the fraction of negative examples. \n",
    "\n",
    "At a given node of a decision tree, 6 of 10 examples are cats and 4 of 10 are not cats. Which expression calculates the entropy $H(p_{i})$ of this group of 10 animals?\n",
    "\n",
    "- $-(0.6)log_{2}(0.6) - (0.4) log_{2}(0.4)$\n",
    "- $-(0.6)log_{2}(0.6) - (1-0.4) log_{2}(1-0.4)$\n",
    "- $(0.6)log_{2}(0.6) + (1-0.4) log_{2}(1-0.4)$\n",
    "- $(0.6)log_{2}(0.6) + (0.4) log_{2}(0.4)$\n",
    "\n",
    "\n",
    "**<font color='magenta'>Answer: $-(0.6)log_{2}(0.6) - (0.4) log_{2}(0.4)$</font>**\n",
    "\n",
    "**<font color='magenta'>Explanation: The expression is $-(p_{1})log_{2}(p_{1}) - (p_{0})log_{2}(p_{0})$. </font>**\n"
   ]
  },
  {
   "cell_type": "markdown",
   "metadata": {},
   "source": [
    "# Question 2\n",
    "\n",
    "<figure>\n",
    "<img src=\"DTL2.PNG\"   style=\"width:600px;height:200px;\">\n",
    "</figure> \n",
    "\n",
    "Recall that information was defined as follows: \n",
    "$$H(p_{1}^{root}) - \\left(w^{left}H(p_{1}^{left}) + w^{right}H(p_{1}^{right})\\right)\n",
    "$$\n",
    "\n",
    "Before a split, the entropy of a group of 5 cats and 5 non-cats is $H(5/10)$. After splitting on a particular feature, a group of 7 animals (4 of which are cats) has an entropy of $H(4/7)$. The other group of 3 animals (1 is a cat) and has an entropy of $H(1/3)$. What is the expression for information gain?\n",
    "\n",
    "- $H(0.5) - (\\frac{4}{7}*H(4/7) + \\frac{4}{7}*H(1/3))$\n",
    "- $H(0.5) - (7*H(4/7) + 3*H(1/3))$\n",
    "- $H(0.5) - (\\frac{7}{10}*H(4/7) + \\frac{3}{10}*H(1/3))$\n",
    "- $H(0.5) - (H(4/7) + H(1/3))$\n",
    "\n",
    "**<font color='magenta'>Answer: $H(0.5) - (\\frac{7}{10}*H(4/7) + \\frac{3}{10}*H(1/3))$.</font>**\n",
    "\n",
    "**<font color='magenta'>Explanation: The general expression is $H(p_{1}^{root}) - \\left(w^{left}H(p_{1}^{left}) + w^{right}H(p_{1}^{right})\\right)$.</font>**"
   ]
  },
  {
   "cell_type": "markdown",
   "metadata": {},
   "source": [
    "# Question 3\n",
    "\n",
    "<figure>\n",
    "<img src=\"DTL3.PNG\"   style=\"width:800px;height:200px;\">\n",
    "</figure> \n",
    "\n",
    "To represent 3 possible values for the ear shape, you can define 3 features for ear shape: pointy ears, floppy ears, oval ears. For an animal whose ears are not pointy, not floppy, but are oval, how can you represent this information as a feature vector?\n",
    "\n",
    "- [1,0,0] \n",
    "- [0, 0, 1]\n",
    "- [1, 1, 0]\n",
    "- [0, 1, 0]\n",
    "\n",
    "**<font color='magenta'>Answer: [0, 0, 1].</font>**\n",
    "\n",
    "**<font color='magenta'>Explanation: 0 is used to represent the absence of that feature (not pointy, not floppy), and 1 is used to represent the presence of that feature (oval).</font>**"
   ]
  }
 ],
 "metadata": {
  "kernelspec": {
   "display_name": "Python 3.10.8 64-bit",
   "language": "python",
   "name": "python3"
  },
  "language_info": {
   "name": "python",
   "version": "3.10.8"
  },
  "orig_nbformat": 4,
  "vscode": {
   "interpreter": {
    "hash": "aee8b7b246df8f9039afb4144a1f6fd8d2ca17a180786b69acc140d282b71a49"
   }
  }
 },
 "nbformat": 4,
 "nbformat_minor": 2
}
