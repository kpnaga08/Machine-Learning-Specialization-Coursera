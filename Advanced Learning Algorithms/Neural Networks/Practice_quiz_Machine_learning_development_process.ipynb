{
 "cells": [
  {
   "cell_type": "markdown",
   "metadata": {},
   "source": [
    "**<font color='magenta'>Question 1</font>**\n",
    "\n",
    "\n",
    "<figure>\n",
    "<img src=\"MLDP.PNG\"   style=\"width:600px;height:300px;\">\n",
    "</figure> \n",
    "\n",
    "Which of these is a way to do error analysis? \n",
    "\n",
    "- Collecting additional training data in order to help the algorithm do better. \n",
    "- Calculating the training error $J_{train}$\n",
    "- Manually examine a sample of the training examples that the model misclassified in order to identify common traits and trends. \n",
    "- Calculating the test error $J_{test}$\n",
    "\n",
    "**<font color='magenta'>Answer: Manually examine a sample of the training examples that the model misclassified in order to identify common traits and trends.</font>**\n",
    "\n",
    "**<font color='magenta'>Explanation: By identifying similar types of errors, you can collect more data that are similar to these misclassified examples in order to train the model to improve on these types of examples.</font>**"
   ]
  },
  {
   "cell_type": "markdown",
   "metadata": {},
   "source": [
    "**<font color='magenta'>Question 2</font>**\n",
    "\n",
    "\n",
    "<figure>\n",
    "<img src=\"MLDP2.PNG\"   style=\"width:600px;height:300px;\">\n",
    "</figure> \n",
    "\n",
    "We sometimes take an existing training example and modify it (for example, by rotating an image slightly) to create a new example with the same label. What is this process called?\n",
    "\n",
    "- Error analysis\n",
    "- Bias/variance analysis \n",
    "- Data augmentation \n",
    "- Machine learning diagnostic\n",
    "\n",
    "**<font color='magenta'>Answer: Data augmentation </font>**\n",
    "\n",
    "**<font color='magenta'>Explanation: Modifying existing data (such as images, or audio) is called data augmentation.</font>**"
   ]
  },
  {
   "cell_type": "markdown",
   "metadata": {},
   "source": [
    "**<font color='magenta'>Question 2</font>**\n",
    "\n",
    "\n",
    "<figure>\n",
    "<img src=\"MLDP3.PNG\"   style=\"width:600px;height:300px;\">\n",
    "</figure> \n",
    "\n",
    "What are two possible ways to perform transfer learning? Hint: two of the four choices are correct.\n",
    "\n",
    "- Given a dataset, pre-train and then further fine tune a neural network on the same dataset. \n",
    "\n",
    "- Download a pre-trained model and use it for prediction without modifying or re-training it. \n",
    "\n",
    "\n",
    "- You can choose to train all parameters of the model, including the output layers, as well as the earlier layers.\n",
    "\n",
    "- You can choose to train just the output layers' parameters and leave the other parameters of the model fixed\n",
    "\n",
    "\n",
    "**<font color='magenta'>Answer: (1) You can choose to train all parameters of the model, including the output layers, as well as the earlier layers. (2) You can choose to train just the output layers' parameters and leave the other parameters of the model fixed.   </font>**\n",
    "\n",
    "**<font color='magenta'>Explanation: (1) It may help to train all the layers of the model on your own training set. This may take more time compared to if you just trained the parameters of the output layers. (2) The earlier layers of the model may be reusable as is, because they are identifying low level features that are relevant to your task.</font>**"
   ]
  }
 ],
 "metadata": {
  "kernelspec": {
   "display_name": "Python 3.10.8 64-bit",
   "language": "python",
   "name": "python3"
  },
  "language_info": {
   "name": "python",
   "version": "3.10.8"
  },
  "orig_nbformat": 4,
  "vscode": {
   "interpreter": {
    "hash": "aee8b7b246df8f9039afb4144a1f6fd8d2ca17a180786b69acc140d282b71a49"
   }
  }
 },
 "nbformat": 4,
 "nbformat_minor": 2
}
