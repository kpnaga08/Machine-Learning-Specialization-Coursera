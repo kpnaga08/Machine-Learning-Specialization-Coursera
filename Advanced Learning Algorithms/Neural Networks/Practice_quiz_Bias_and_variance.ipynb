{
 "cells": [
  {
   "cell_type": "markdown",
   "metadata": {},
   "source": [
    "# Question 1\n",
    "\n",
    "<figure>\n",
    "<img src=\"BV.PNG\"   style=\"width:600px;height:200px;\">\n",
    "</figure> \n",
    "\n",
    "If the model's cross validation error $J_{cv}$ is much higher than the training error $J_{train}$,  this is an indication that the model has…\n",
    "\n",
    "\n",
    "- Low bias\n",
    "- Low variance\n",
    "- high bias\n",
    "- high variance\n",
    "\n",
    "\n",
    "**<font color='magenta'>Answer: high variance</font>**\n",
    "\n",
    "**<font color='magenta'>Explanation: $J_{cv} >> J_{train}$ (whether $J_{train}$ is also high or not, this is a sign that the model is overfitting to the training data and performing much worse on new examples.</font>**"
   ]
  },
  {
   "cell_type": "markdown",
   "metadata": {},
   "source": [
    "# Question 2\n",
    "\n",
    "<figure>\n",
    "<img src=\"BV2.PNG\"   style=\"width:600px;height:200px;\">\n",
    "</figure> \n",
    "\n",
    "Which of these is the best way to determine whether your model has high bias (has underfit the training data)?\n",
    "\n",
    "- See if the cross validation error is high compared to the baseline level of performance \n",
    "\n",
    "- Compare the training error to the cross validation error.\n",
    "\n",
    "- See if the training error is high (above 15% or so) \n",
    "\n",
    "- Compare the training error to the baseline level of performance\n",
    "\n",
    "\n",
    "**<font color='magenta'>Answer: Compare the training error to the baseline level of performance.</font>**\n",
    "\n",
    "**<font color='magenta'>Explanation: If comparing your model's training error to a baseline level of performance (such as human level performance, or performance of other well-established models), if your model's training error is much higher, then this is a sign that the model has high bias (has underfit).</font>**"
   ]
  },
  {
   "cell_type": "markdown",
   "metadata": {},
   "source": [
    "# Question 3\n",
    "\n",
    "<figure>\n",
    "<img src=\"BV3.PNG\"   style=\"width:600px;height:200px;\">\n",
    "</figure> \n",
    "\n",
    "ou find that your algorithm has high bias. Which of these seem like good options for improving the algorithm’s performance? Hint: two of these are correct. \n",
    "\n",
    "- Collect additional features or add polynomial features \n",
    "- Collect more training examples \n",
    "- Remove examples from the training set\n",
    "- Decrease the regularization parameter $\\lambda$ (lambda)\n",
    "\n",
    "\n",
    "**<font color='magenta'>Answer: (1) Collect additional features or add polynomial features. (2)  Decrease the regularization parameter $\\lambda$ (lambda)</font>**\n",
    "\n",
    "**<font color='magenta'>Explanation: (1) More features could potentially help the model better fit the training examples. (2) Decreasing regularization can help the model better fit the training data.</font>**"
   ]
  }
 ],
 "metadata": {
  "kernelspec": {
   "display_name": "Python 3.10.8 64-bit",
   "language": "python",
   "name": "python3"
  },
  "language_info": {
   "name": "python",
   "version": "3.10.8"
  },
  "orig_nbformat": 4,
  "vscode": {
   "interpreter": {
    "hash": "aee8b7b246df8f9039afb4144a1f6fd8d2ca17a180786b69acc140d282b71a49"
   }
  }
 },
 "nbformat": 4,
 "nbformat_minor": 2
}
