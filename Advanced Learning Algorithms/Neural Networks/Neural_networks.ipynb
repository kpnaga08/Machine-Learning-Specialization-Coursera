{
 "cells": [
  {
   "cell_type": "markdown",
   "metadata": {},
   "source": [
    "# Advanced Learning Algorithms"
   ]
  },
  {
   "cell_type": "markdown",
   "metadata": {},
   "source": [
    "**<font color='magenta'>Question</font>**\n",
    "\n",
    "Can you fill in the superscripts and subscripts for the second neuron?\n",
    "\n",
    "<figure>\n",
    "<img src=\"ALA_1.PNG\"   style=\"width:600px;height:300px;\">\n",
    "</figure> \n",
    "\n",
    "- $a_2^{[3]} = g(\\vec{w}_{2}^{[3]} . \\vec{a}^{[2]} + b_{2}^{[3]})$\n",
    "- $a_2^{[3]} = g(\\vec{w}_{2}^{[3]} . \\vec{a}^{[3]} + b_{2}^{[3]})$\n",
    "- $a_2^{[3]} = g(\\vec{w}_{2}^{[3]} . \\vec{a}_{2}^{[2]} + b_{2}^{[3]})$\n",
    "\n",
    "**<font color='magenta'>Answer: $a_2^{[3]} = g(\\vec{w}_{2}^{[3]} . \\vec{a}^{[2]} + b_{2}^{[3]})$</font>**"
   ]
  },
  {
   "cell_type": "markdown",
   "metadata": {},
   "source": [
    "# Multiclass Classification"
   ]
  },
  {
   "cell_type": "markdown",
   "metadata": {},
   "source": [
    "What do you think $a_{4}$ is equal to?\n",
    "\n",
    "<figure>\n",
    "<img src=\"softmax.PNG\"   style=\"width:600px;height:300px;\">\n",
    "</figure> \n",
    "\n",
    "- 0.35\n",
    "- 0.40\n",
    "- -0.40\n",
    "\n",
    "**<font color='magenta'>Answer: $0.35$</font>**"
   ]
  },
  {
   "cell_type": "markdown",
   "metadata": {},
   "source": []
  }
 ],
 "metadata": {
  "kernelspec": {
   "display_name": "Python 3.10.8 64-bit",
   "language": "python",
   "name": "python3"
  },
  "language_info": {
   "name": "python",
   "version": "3.10.8"
  },
  "orig_nbformat": 4,
  "vscode": {
   "interpreter": {
    "hash": "aee8b7b246df8f9039afb4144a1f6fd8d2ca17a180786b69acc140d282b71a49"
   }
  }
 },
 "nbformat": 4,
 "nbformat_minor": 2
}
