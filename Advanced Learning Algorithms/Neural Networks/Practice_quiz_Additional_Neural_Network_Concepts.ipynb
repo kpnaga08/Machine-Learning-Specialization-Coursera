{
 "cells": [
  {
   "cell_type": "markdown",
   "metadata": {},
   "source": [
    "# Question 1\n",
    "\n",
    "<figure>\n",
    "<img src=\"ANCC.PNG\"   style=\"width:600px;height:200px;\">\n",
    "</figure>\n",
    "\n",
    "\n",
    "The Adam optimizer is the recommended optimizer for finding the optimal parameters of the model. How do you use the Adam optimizer in TensorFlow?\n",
    "\n",
    "\n",
    "- The call to model.compile() uses the Adam optimizer by default\n",
    "\n",
    "- When calling model.compile, set optimizer=tf.keras.optimizers.Adam(learning_rate=1e-3).\n",
    "\n",
    "- The call to model.compile() will automatically pick the best optimizer, whether it is gradient descent, Adam or something else. So there’s no need to pick an optimizer manually. \n",
    "\n",
    "- The Adam optimizer works only with Softmax outputs. So if a neural network has a Softmax output layer, TensorFlow will automatically pick the Adam optimizer. \n",
    "\n",
    "\n",
    "**<font color='magenta'>Answer: When calling model.compile, set optimizer=tf.keras.optimizers.Adam(learning_rate=1e-3).</font>**\n",
    "\n",
    "**<font color='magenta'>Explanation: Set the optimizer to Adam.</font>**\n",
    "\n"
   ]
  },
  {
   "cell_type": "markdown",
   "metadata": {},
   "source": [
    "# Question 2\n",
    "\n",
    "<figure>\n",
    "<img src=\"ANCC2.PNG\"   style=\"width:600px;height:200px;\">\n",
    "</figure>\n",
    "\n",
    "The lecture covered a different layer type where each single neuron of the layer does not look at all the values of the input vector that is fed into that layer. What is this name of the layer type discussed in lecture?\n",
    "\n",
    "- 1D layer or 2D layer (depending on the input dimension) \n",
    "- A fully connected layer\n",
    "- convolutional layer\n",
    "- Image layer\n",
    "\n",
    "**<font color='magenta'>Answer: convolutional layer</font>**\n",
    "\n",
    "**<font color='magenta'>Explanation: For a convolutional layer, each neuron takes as input a subset of the vector that is fed into that layer.</font>**"
   ]
  }
 ],
 "metadata": {
  "kernelspec": {
   "display_name": "Python 3.10.8 64-bit",
   "language": "python",
   "name": "python3"
  },
  "language_info": {
   "name": "python",
   "version": "3.10.8"
  },
  "orig_nbformat": 4,
  "vscode": {
   "interpreter": {
    "hash": "aee8b7b246df8f9039afb4144a1f6fd8d2ca17a180786b69acc140d282b71a49"
   }
  }
 },
 "nbformat": 4,
 "nbformat_minor": 2
}
