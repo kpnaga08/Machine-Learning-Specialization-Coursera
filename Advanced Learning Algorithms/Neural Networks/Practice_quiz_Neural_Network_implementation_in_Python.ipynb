{
 "cells": [
  {
   "cell_type": "markdown",
   "metadata": {},
   "source": [
    "# Question 1\n",
    "\n",
    "<figure>\n",
    "<img src=\"NNIP_1.JPEG\"   style=\"width:600px;height:200px;\">\n",
    "</figure> \n",
    "\n",
    "According to the lecture, how do you calculate the activation of the third neuron in the first layer using NumPy?\n",
    "\n",
    "\n",
    "\n",
    "- z1_3 =w1_3 * x + b \n",
    "\n",
    "a1_3 = sigmoid(z1_3)\n",
    "\n",
    "- z1_3 = np.dot(w1_3, x) + b1_3\n",
    "\n",
    "a1_3 = sigmoid(z1_3)\n",
    "\n",
    "- layer_1 = Dense(units=3, activation='sigmoid')\n",
    "\n",
    "a_1 = layer_1(x)\n",
    "\n",
    "**<font color='magenta'>Answer: z1_3 = np.dot(w1_3, x) + b1_3 and a1_3 = sigmoid(z1_3).(units=4, activation=‘sigmoid’)</font>**\n",
    "\n",
    "**<font color='magenta'>Explanation: Use the numpy.dot function to take the dot product. The sigmoid function shown in lecture can be a function that you write yourself (see course 1, week 3 of this specialization), and that will be provided to you in this course.</font>**"
   ]
  },
  {
   "cell_type": "markdown",
   "metadata": {},
   "source": [
    "# Question 2\n",
    "\n",
    "<figure>\n",
    "<img src=\"NNIP_2.PNG\"   style=\"width:600px;height:200px;\">\n",
    "</figure> \n",
    "\n",
    "According to the lecture, when coding up the numpy array W, where would you place the w parameters for each neuron?\n",
    "\n",
    "- In the rows of W.\n",
    "- In the columns of W.\n",
    "\n",
    "\n",
    "**<font color='magenta'>Answer: In the columns of W.(units=4, activation=‘sigmoid’)</font>**\n",
    "\n",
    "**<font color='magenta'>Explanation: The w parameters of neuron 1 are in column 1. The w parameters of neuron 2 are in column 2, and so on.</font>**"
   ]
  },
  {
   "cell_type": "markdown",
   "metadata": {},
   "source": [
    "# Question 3\n",
    "\n",
    "<figure>\n",
    "<img src=\"NNIP_3.PNG\"   style=\"width:600px;height:200px;\">\n",
    "</figure>\n",
    "\n",
    "For the code above in the \"dense\" function that defines a single layer of neurons, how many times does the code go through the \"for loop\"? Note that W has 2 rows and 3 columns.\n",
    "\n",
    "- 6 times \n",
    "- 2 times\n",
    "- 3 times\n",
    "- 5 times \n",
    "\n",
    "**<font color='magenta'>Answer: 3 times.(units=4, activation=‘sigmoid’)</font>**\n",
    "\n",
    "**<font color='magenta'>Explanation: For each neuron in the layer, there is one column in the numpy array W. The for loop calculates the activation value for each neuron. So if there are 5 columns in W, there are 5 neurons in the dense layer, and therefore the for loop goes through 5 iterations (one for each neuron).</font>**\n",
    "\n"
   ]
  }
 ],
 "metadata": {
  "kernelspec": {
   "display_name": "Python 3.10.8 64-bit",
   "language": "python",
   "name": "python3"
  },
  "language_info": {
   "name": "python",
   "version": "3.10.8"
  },
  "orig_nbformat": 4,
  "vscode": {
   "interpreter": {
    "hash": "aee8b7b246df8f9039afb4144a1f6fd8d2ca17a180786b69acc140d282b71a49"
   }
  }
 },
 "nbformat": 4,
 "nbformat_minor": 2
}
