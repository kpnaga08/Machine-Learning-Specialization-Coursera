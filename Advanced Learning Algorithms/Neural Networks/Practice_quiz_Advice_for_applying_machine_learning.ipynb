{
 "cells": [
  {
   "cell_type": "markdown",
   "metadata": {},
   "source": [
    "# Question 1\n",
    "\n",
    "Question 1\n",
    "In the context of machine learning, what is a diagnostic?\n",
    "\n",
    "- A test that you run to gain insight into what is/isn’t working with a learning algorithm.\n",
    "\n",
    "- A process by which we quickly try as many different ways to improve an algorithm as possible, so as to see what works.\n",
    "\n",
    "- This refers to the process of measuring how well a learning algorithm does on a test set (data that the algorithm was not trained on). \n",
    "\n",
    "- An application of machine learning to medical applications, with the goal of diagnosing patients’ conditions. \n",
    "\n",
    "\n",
    "**<font color='magenta'>Answer: A test that you run to gain insight into what is/isn’t working with a learning algorithm.</font>**\n",
    "\n",
    "**<font color='magenta'>Explanation: A diagnostic is a test that you run to gain insight into what is/isn’t working with a learning algorithm, to gain guidance into improving its performance.</font>**"
   ]
  },
  {
   "cell_type": "markdown",
   "metadata": {},
   "source": [
    "# Question 2\n",
    "\n",
    "True/False? It is always true that the better an algorithm does on the training set, the better it will do on generalizing to new data. \n",
    "\n",
    "- False\n",
    "- True\n",
    "\n",
    "\n",
    "**<font color='magenta'>Answer: False.</font>**\n",
    "\n",
    "**<font color='magenta'>Explanation:  if a model overfits the training set, it may not generalize well to new data.</font>**"
   ]
  },
  {
   "cell_type": "markdown",
   "metadata": {},
   "source": [
    "# Question 3\n",
    "\n",
    "<figure>\n",
    "<img src=\"APML.PNG\"   style=\"width:600px;height:200px;\">\n",
    "</figure>\n",
    "\n",
    "For a classification task; suppose you train three different models using three different neural network architectures. Which data do you use to evaluate the three models in order to choose the best one? \n",
    "\n",
    "- The training set\n",
    "- All the data -- training, cross validation and test sets put together. \n",
    "- The test set\n",
    "- The cross validation set \n",
    "\n",
    "\n",
    "**<font color='magenta'>Answer: The cross validation set . </font>**\n",
    "\n",
    "**<font color='magenta'>Explanation: Use the cross validation set to calculate the cross validation error on all three models in order to compare which of the three models is best.</font>**"
   ]
  }
 ],
 "metadata": {
  "kernelspec": {
   "display_name": "Python 3.10.8 64-bit",
   "language": "python",
   "name": "python3"
  },
  "language_info": {
   "name": "python",
   "version": "3.10.8"
  },
  "orig_nbformat": 4,
  "vscode": {
   "interpreter": {
    "hash": "aee8b7b246df8f9039afb4144a1f6fd8d2ca17a180786b69acc140d282b71a49"
   }
  }
 },
 "nbformat": 4,
 "nbformat_minor": 2
}
