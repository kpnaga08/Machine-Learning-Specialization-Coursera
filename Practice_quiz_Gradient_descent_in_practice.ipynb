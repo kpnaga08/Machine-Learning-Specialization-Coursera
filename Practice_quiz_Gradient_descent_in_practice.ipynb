{
 "cells": [
  {
   "cell_type": "markdown",
   "metadata": {},
   "source": [
    "# Question 1\n",
    "\n",
    "<figure>\n",
    "    <img src=\"images/Q1w2.PNG\" style=\"width:1200px;\" >\n",
    "</figure>\n",
    "\n",
    "Which of the following is a valid step used during feature scaling? \n",
    "\n",
    "- Subtract the mean (average) from each value and then divide by the (max - min).\n",
    "- Add the mean (average) from each value and and then divide by the (max - min).\n",
    "\n",
    "**Answer: Subtract the mean (average) from each value and then divide by the (max - min).**\n",
    "\n",
    "**Explanation: This is called mean normalization.**\n"
   ]
  },
  {
   "cell_type": "markdown",
   "metadata": {},
   "source": [
    "# Question 2\n",
    "\n",
    "Suppose a friend ran gradient descent three separate times with three choices of the learning rate $\\alpha$\n",
    "$\\alpha$ and plotted the learning curves for each (cost $J$ for each iteration).\n",
    "\n",
    "<figure>\n",
    "    <img src=\"images/Q2w2.PNG\" style=\"width:1200px;\" >\n",
    "</figure>\n",
    "\n",
    "For which case, A or B, was the learning rate $\\alpha$ likely too large?\n",
    "\n",
    "- Both Cases A and B\n",
    "- case A only \n",
    "- case B only\n",
    "- Neither Case A nor B \n",
    "\n",
    "**Answer: case B only**\n",
    "\n",
    "**Explanation: The cost is increasing as training continues, which likely indicates that the learning rate alpha is too large.**"
   ]
  },
  {
   "cell_type": "markdown",
   "metadata": {},
   "source": [
    "# Question 3\n",
    "\n",
    "Of the circumstances below, for which one is feature scaling particularly helpful?\n",
    "\n",
    "- Feature scaling is helpful when all the features in the original data (before scaling is applied) range from 0 to 1.\n",
    "- Feature scaling is helpful when one feature is much larger (or smaller) than another feature.\n",
    "\n",
    "**Answer: Feature scaling is helpful when one feature is much larger (or smaller) than another feature.**\n",
    "\n",
    "**Explanation: For example, the “house size” in square feet may be as high as 2,000, which is much larger than the feature “number of bedrooms” having a value between 1 and 5 for most houses in the modern era.**"
   ]
  },
  {
   "cell_type": "markdown",
   "metadata": {},
   "source": [
    "# Question 4\n",
    "\n",
    "You are helping a grocery store predict its revenue, and have data on its items sold per week, and price per item. What could be a useful engineered feature?\n",
    "\n",
    "- For each product, calculate the number of items sold times price per item.\n",
    "- For each product, calculate the number of items sold divided by the price per item.\n",
    "\n",
    "**Answer: For each product, calculate the number of items sold times price per item.**\n",
    "\n",
    "**Explanation: This feature can be interpreted as the revenue generated for each product.**"
   ]
  },
  {
   "cell_type": "markdown",
   "metadata": {},
   "source": [
    "# Question 5\n",
    "\n",
    "True/False? With polynomial regression, the predicted values f_w,b(x) does not necessarily have to be a straight line (or linear) function of the input feature x.\n",
    "\n",
    "- False\n",
    "- True\n",
    "\n",
    "**Answer: True.**\n",
    "\n",
    "**Explanation: A polynomial function can be non-linear.  This can potentially help the model to fit the training data better.**"
   ]
  }
 ],
 "metadata": {
  "kernelspec": {
   "display_name": "Python 3.10.8 64-bit",
   "language": "python",
   "name": "python3"
  },
  "language_info": {
   "name": "python",
   "version": "3.10.8"
  },
  "orig_nbformat": 4,
  "vscode": {
   "interpreter": {
    "hash": "aee8b7b246df8f9039afb4144a1f6fd8d2ca17a180786b69acc140d282b71a49"
   }
  }
 },
 "nbformat": 4,
 "nbformat_minor": 2
}
