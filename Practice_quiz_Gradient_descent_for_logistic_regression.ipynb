{
 "cells": [
  {
   "cell_type": "markdown",
   "metadata": {},
   "source": [
    "# Question\n",
    "\n",
    "<figure>\n",
    " <img src=\"./images/GD_q1.PNG\"   style=\"width:900px;height:600px;\">\n",
    "</figure> \n",
    "\n",
    "Which of the following two statements is a more accurate statement about gradient descent for logistic regression?\n",
    "\n",
    "- The update steps look like the update steps for linear regression, but the definition of $f_{\\mathbf{w},b}(x^{(i)})$  is different.\n",
    "- The update steps are identical to the update steps for linear regression.\n",
    "\n",
    "**Answer: The update steps look like the update steps for linear regression, but the definition of $f_{\\mathbf{w},b}(x^{(i)})$  is different.**\n",
    "\n",
    "**Explanation: For logistic regression, $f_{\\mathbf{w},b}(x^{(i)})$ is the sigmoid function instead of a straight line.**"
   ]
  }
 ],
 "metadata": {
  "kernelspec": {
   "display_name": "Python 3.10.8 64-bit",
   "language": "python",
   "name": "python3"
  },
  "language_info": {
   "name": "python",
   "version": "3.10.8"
  },
  "orig_nbformat": 4,
  "vscode": {
   "interpreter": {
    "hash": "aee8b7b246df8f9039afb4144a1f6fd8d2ca17a180786b69acc140d282b71a49"
   }
  }
 },
 "nbformat": 4,
 "nbformat_minor": 2
}
