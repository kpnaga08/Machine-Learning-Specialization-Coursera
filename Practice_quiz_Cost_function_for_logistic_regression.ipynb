{
 "cells": [
  {
   "cell_type": "markdown",
   "metadata": {},
   "source": [
    "# Question 1\n",
    "\n",
    "\n",
    "<figure>\n",
    " <img src=\"./images/Pq_q1.PNG\"   style=\"width:600px;height:200px;\">\n",
    "</figure> \n",
    "\n",
    "In this lecture series, \"cost\" and \"loss\" have distinct meanings. Which one applies to a single training example?\n",
    "\n",
    "- Loss\n",
    "- Cost\n",
    "- Both Loss and Cost\n",
    "- Neither Loss nor Cost\n",
    "\n",
    "**Answer: Loss**\n",
    "\n",
    "**Explanation: Loss is calculated on a single training example. It is worth noting that this definition is not universal. Other lecture series may have a different definition.**"
   ]
  },
  {
   "cell_type": "markdown",
   "metadata": {},
   "source": [
    "# Question 2\n",
    "\n",
    "<figure>\n",
    " <img src=\"./images/Pq_q2.PNG\"   style=\"width:600px;height:200px;\">\n",
    "</figure> \n",
    "\n",
    "For the simplified loss function, if the label $ y^{(i)} = 0$, then what does this expression simplify to?\n",
    "\n",
    "- $\\log \\left( 1 - f_{\\mathbf{w},b}\\left( \\mathbf{x}^{(i)} \\right) \\right) + \\log \\left( 1 - f_{\\mathbf{w},b}\\left( \\mathbf{x}^{(i)} \\right) \\right)$\n",
    "- $\\log \\left(f_{\\mathbf{w},b}\\left( \\mathbf{x}^{(i)} \\right) \\right)$\n",
    "- $-\\log \\left( 1 - f_{\\mathbf{w},b}\\left( \\mathbf{x}^{(i)} \\right) \\right) - \\log \\left( 1 - f_{\\mathbf{w},b}\\left( \\mathbf{x}^{(i)} \\right) \\right)$\n",
    "- $-\\log \\left( 1 - f_{\\mathbf{w},b}\\left( \\mathbf{x}^{(i)} \\right) \\right)$\n",
    "\n",
    "**Answer: $-\\log \\left( 1 - f_{\\mathbf{w},b}\\left( \\mathbf{x}^{(i)} \\right) \\right)$**\n",
    "\n",
    "**Explanation: When $ y^{(i)} = 0$, the first term reduces to zero.**"
   ]
  }
 ],
 "metadata": {
  "kernelspec": {
   "display_name": "Python 3.10.8 64-bit",
   "language": "python",
   "name": "python3"
  },
  "language_info": {
   "name": "python",
   "version": "3.10.8"
  },
  "orig_nbformat": 4,
  "vscode": {
   "interpreter": {
    "hash": "aee8b7b246df8f9039afb4144a1f6fd8d2ca17a180786b69acc140d282b71a49"
   }
  }
 },
 "nbformat": 4,
 "nbformat_minor": 2
}
