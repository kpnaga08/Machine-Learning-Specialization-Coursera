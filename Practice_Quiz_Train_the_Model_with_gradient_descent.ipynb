{
 "cells": [
  {
   "cell_type": "markdown",
   "metadata": {},
   "source": [
    "# Question 1\n",
    "\n",
    "from pkg_resources import declare_namespace\n",
    "\n",
    "\n",
    "Gradient descent is an algorithm for finding values of parameters w and b that minimize the cost function J. \n",
    "\n",
    "$$\\begin{align*} \\text{repeat}&\\text{ until convergence:} \\; \\lbrace \\newline\n",
    "\\;  w &= w -  \\alpha \\frac{\\partial J(w,b)}{\\partial w} \\tag{3}  \\; \\newline \n",
    " b &= b -  \\alpha \\frac{\\partial J(w,b)}{\\partial b}  \\newline \\rbrace\n",
    "\\end{align*}$$\n",
    "\n",
    "When $\\frac{\\partial{J(w,b)}}{\\partial w}$ is a negative number (less than zero), what happens to $w$ after one update step.and\n",
    "\n",
    "- $w$ decreases\n",
    "- $w$ increases\n",
    "- It is not possible to tell if $w$ will increase or decrease\n",
    "- $w$ stays the same\n",
    "\n",
    "**Answer: $w$ increases.** \n",
    "\n",
    "**Explanation: The learning rate is always a positive number, so if you take W minus a negative number, you end up with a new value for W that is larger (more positive).**"
   ]
  },
  {
   "cell_type": "markdown",
   "metadata": {},
   "source": [
    "# Question 2\n",
    "\n",
    "For linear regression, what is the update step for parameter b?\n",
    "\n",
    "- $b = b - \\frac{1}{m} \\sum\\limits_{i = 0}^{m} (f_{w,b}(x^{(i)}) - y^{(i)})$\n",
    "- $b = b - \\frac{1}{m} \\sum\\limits_{i = 0}^{m} (f_{w,b}(x^{(i)}) - y^{(i)})x^{(i)}$\n",
    "\n",
    "**Answer: $b = \\frac{\\partial J(w,b)}{\\partial b} = \\frac{1}{m} \\sum\\limits_{i = 0}^{m} (f_{w,b}(x^{(i)}) - y^{(i)})$**\n",
    "\n",
    "**Explanation: The update step is $b = b - \\frac{1}{m} \\sum\\limits_{i = 0}^{m} (f_{w,b}(x^{(i)}) - y^{(i)})$ can be computed with this expression:  $\\sum_{i=1}^{m} (f_{w,b}(x^{(i)})-y^{(i)})$**"
   ]
  }
 ],
 "metadata": {
  "kernelspec": {
   "display_name": "Python 3.10.8 64-bit",
   "language": "python",
   "name": "python3"
  },
  "language_info": {
   "codemirror_mode": {
    "name": "ipython",
    "version": 3
   },
   "file_extension": ".py",
   "mimetype": "text/x-python",
   "name": "python",
   "nbconvert_exporter": "python",
   "pygments_lexer": "ipython3",
   "version": "3.10.8"
  },
  "orig_nbformat": 4,
  "vscode": {
   "interpreter": {
    "hash": "aee8b7b246df8f9039afb4144a1f6fd8d2ca17a180786b69acc140d282b71a49"
   }
  }
 },
 "nbformat": 4,
 "nbformat_minor": 2
}
