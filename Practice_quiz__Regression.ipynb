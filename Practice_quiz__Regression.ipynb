{
 "cells": [
  {
   "cell_type": "markdown",
   "metadata": {},
   "source": [
    "**<font color='red'>Question 1</font>**\n",
    "\n",
    "For linear regression, the model is $f_{w,b} (x) = wx + b$.\n",
    "Which of the following are the inputs, or features, that are fed into the model and with which the model is expected to make a prediction?\n",
    "\n",
    "- $w$ and $b$\n",
    "- $m$\n",
    "- $x$\n",
    "- $(x, y)$\n",
    "\n",
    "**<font color='red'>Answer: $x$</font>**\n",
    "\n",
    "\n",
    "**Explanation: The $x$, the input features, are fed into the model to generate a prediction, $f_{w,b} (x)$.**"
   ]
  },
  {
   "cell_type": "markdown",
   "metadata": {},
   "source": [
    "**<font color='red'>Question 1</font>**\n",
    "\n",
    "For linear regression, if you find parameters $w$ and $b$ so that $J(w,b)$ is very close to zero, what can you conclude?\n",
    "\n",
    "- The selected values of the parameters $w$ and $b$ cause the algorithm to fit the training set really well.\n",
    "- The selected values of the parameters $w$ and $b$ cause the algorithm to fit the training set really poorly.\n",
    "- This is never possible -- there must be a bug in the code.\n",
    "\n",
    "**<font color='red'>Answer: The selected values of the parameters $w$ and $b$ cause the algorithm to fit the training set really well.</font>**\n",
    "\n",
    "**Explanation: When the cost is small, this means that the model fits the training set well.>**"
   ]
  }
 ],
 "metadata": {
  "kernelspec": {
   "display_name": "Python 3.10.8 64-bit",
   "language": "python",
   "name": "python3"
  },
  "language_info": {
   "codemirror_mode": {
    "name": "ipython",
    "version": 3
   },
   "file_extension": ".py",
   "mimetype": "text/x-python",
   "name": "python",
   "nbconvert_exporter": "python",
   "pygments_lexer": "ipython3",
   "version": "3.10.8"
  },
  "orig_nbformat": 4,
  "vscode": {
   "interpreter": {
    "hash": "aee8b7b246df8f9039afb4144a1f6fd8d2ca17a180786b69acc140d282b71a49"
   }
  }
 },
 "nbformat": 4,
 "nbformat_minor": 2
}
